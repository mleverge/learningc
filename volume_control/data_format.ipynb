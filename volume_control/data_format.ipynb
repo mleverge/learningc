{
 "cells": [
  {
   "cell_type": "code",
   "execution_count": 78,
   "metadata": {},
   "outputs": [],
   "source": [
    "filename = 'data6.csv'\n",
    "\n",
    "f = open(filename, 'r')\n",
    "s = f.read()\n",
    "f.close()"
   ]
  },
  {
   "cell_type": "code",
   "execution_count": 79,
   "metadata": {},
   "outputs": [],
   "source": [
    "s_new = ''\n",
    "for i in range(len(s)) :\n",
    "    if s[i] == ',' :\n",
    "        s_new+= '.'\n",
    "    else :\n",
    "        s_new+= s[i]\n",
    "        \n"
   ]
  },
  {
   "cell_type": "code",
   "execution_count": 80,
   "metadata": {},
   "outputs": [],
   "source": [
    "f_new = open(filename, 'w')\n",
    "f_new.write(s_new)\n",
    "f_new.close()"
   ]
  },
  {
   "cell_type": "code",
   "execution_count": 81,
   "metadata": {},
   "outputs": [
    {
     "data": {
      "text/plain": [
       "array([[0.00000000e+00, 0.00000000e+00, 0.00000000e+00, ...,\n",
       "        2.40297589e+04, 1.94186540e-02, 5.14611928e+01],\n",
       "       [5.71000000e+00, 5.77715000e+01, 9.76967370e-01, ...,\n",
       "        2.01751545e+04, 1.63037150e-02, 6.13357141e+01],\n",
       "       [1.14200000e+01, 5.77715000e+01, 9.76967370e-01, ...,\n",
       "        2.31441519e+04, 1.87029870e-02, 5.27534486e+01],\n",
       "       ...,\n",
       "       [1.01638000e+03, 5.91335000e+01, 1.00000000e+00, ...,\n",
       "        1.21180097e+06, 9.79266732e-01, 8.24921900e-03],\n",
       "       [1.02209000e+03, 5.91335000e+01, 1.00000000e+00, ...,\n",
       "        1.21584401e+06, 9.82533946e-01, 8.15902800e-03],\n",
       "       [1.02780000e+03, 5.91335000e+01, 1.00000000e+00, ...,\n",
       "        1.21804263e+06, 9.84310668e-01, 8.08211700e-03]])"
      ]
     },
     "execution_count": 81,
     "metadata": {},
     "output_type": "execute_result"
    }
   ],
   "source": [
    "import numpy as np\n",
    "np.loadtxt(filename, skiprows=1, delimiter=';')"
   ]
  },
  {
   "cell_type": "code",
   "execution_count": 63,
   "metadata": {},
   "outputs": [
    {
     "data": {
      "text/plain": [
       "[<matplotlib.lines.Line2D at 0x10e0e8510>]"
      ]
     },
     "execution_count": 63,
     "metadata": {},
     "output_type": "execute_result"
    },
    {
     "data": {
      "image/png": "[encoded data removed]",
      "text/plain": [
       "<matplotlib.figure.Figure at 0x10dfe9550>"
      ]
     },
     "metadata": {
      "needs_background": "light"
     },
     "output_type": "display_data"
    }
   ],
   "source": [
    "import matplotlib.pyplot as plt\n",
    "plt.plot([126, 132.3, 138.6, 144.9, 151.2, 157.5], marker='+')\n"
   ]
  },
  {
   "cell_type": "code",
   "execution_count": 58,
   "metadata": {},
   "outputs": [
    {
     "data": {
      "text/plain": [
       "182.70000000000002"
      ]
     },
     "execution_count": 58,
     "metadata": {},
     "output_type": "execute_result"
    }
   ],
   "source": [
    "176.4+6.3"
   ]
  },
  {
   "cell_type": "code",
   "execution_count": null,
   "metadata": {},
   "outputs": [],
   "source": []
  }
 ],
 "metadata": {
  "kernelspec": {
   "display_name": "Python 2",
   "language": "python",
   "name": "python2"
  },
  "language_info": {
   "codemirror_mode": {
    "name": "ipython",
    "version": 2
   },
   "file_extension": ".py",
   "mimetype": "text/x-python",
   "name": "python",
   "nbconvert_exporter": "python",
   "pygments_lexer": "ipython2",
   "version": "2.7.14"
  }
 },
 "nbformat": 4,
 "nbformat_minor": 2
}
