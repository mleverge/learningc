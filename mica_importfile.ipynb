{
 "cells": [
  {
   "cell_type": "markdown",
   "metadata": {},
   "source": [
    "Ce truc c'est Jupyter Notebook, un truc qui permet de faire des présentations de code sur Python.\n",
    "C'est assez pratique, et regarde si tu peux l'utiliser.\n",
    "\n",
    "Mettons que tu ais à traiter le document test.txt suivant"
   ]
  },
  {
   "cell_type": "raw",
   "metadata": {},
   "source": [
    "# entree1   entree2   x   y   z\n",
    "a  b   1  2  3\n",
    "c  d   4  5  6\n",
    "e  f   7  8  9\n"
   ]
  },
  {
   "cell_type": "markdown",
   "metadata": {},
   "source": [
    "Avec la première ligne un commentaire, les suivantes les données que tu veux exploiter. Ton but, c'est d'arriver à créer des listes ou des vecteurs dans lesquels stocker des données, soit pour les transformer soit pour les analyser.\n",
    "Là, tu as 5 vecteurs potentiels :\n",
    "- entree1 = [a, c, e]\n",
    "- entree2 = [b, d, f]\n",
    "- x = [1, 4, 7]\n",
    "- y = [2, 5, 8]\n",
    "- z = [3, 6, 9]\n"
   ]
  },
  {
   "cell_type": "markdown",
   "metadata": {},
   "source": [
    "# Première étape : importer les données"
   ]
  },
  {
   "cell_type": "code",
   "execution_count": 25,
   "metadata": {},
   "outputs": [
    {
     "data": {
      "text/plain": [
       "<open file 'test.txt', mode 'r' at 0x10e8bc390>"
      ]
     },
     "execution_count": 25,
     "metadata": {},
     "output_type": "execute_result"
    }
   ],
   "source": [
    "f = open('test.txt', 'r')\n",
    "f"
   ]
  },
  {
   "cell_type": "markdown",
   "metadata": {},
   "source": [
    "La fonction open est très classique et générale, elle permet d'ouvrir les documents textes de (presque) n'importe quel type.\n",
    "Elle deux arguments obligatoires :\n",
    "- le nom du fichier en format string (avec des '', et ici il s'agit de 'test.txt'). Si jamais ton fichier à ouvrir n'est pas dans le même répertoire que le script Python, il faut lui préciser le chemin, comme par exemple : 'my/path/of/my/file/test.txt'\n",
    "- La façon dont tu veux qu'il ouvre le fichier. Ici, c'est en mode read : 'r'. Il ne touche pas aux données, il ne fait que les lire. Il faut TOUJOURS protéger au maximum tes données, et ne jamais éditer directement les fichiers sources, mieux vaut les copier et éditer les copies. Cela évite les bêtises.\n",
    "\n",
    "Il y a plusieurs options possibles pour l'ouverture, par exemple :\n",
    "- 'w' : write. Il va ouvrir un nouveau fichier et écrire dedans. Si un fichier avec le même nom existe déjà, il l'effacera et crééera un fichier vierge. A manier avec précaution.\n",
    "- 'a' : add. Il ne lira pas les données, mais ajoutera simplement ce qu'on lui dit à la fin du fichier.\n",
    "- 'r+' : read and write. Permet de lire et d'écrire dans le fichier.\n",
    "\n",
    "\n",
    "Donc, là, j'ai importé les données depuis mon fichier dans la variable f et il me donne l'adresse mémoire où c'est stocké (0x10e...)."
   ]
  },
  {
   "cell_type": "markdown",
   "metadata": {},
   "source": [
    "# Seconde étape : lire les données"
   ]
  },
  {
   "cell_type": "code",
   "execution_count": 26,
   "metadata": {},
   "outputs": [
    {
     "data": {
      "text/plain": [
       "'entree1\\tentree2\\tx\\ty\\tz\\na\\tb\\t1\\t2 \\t3\\nc\\td\\t4\\t5\\t6\\ne\\tf\\t7\\t8\\t9'"
      ]
     },
     "execution_count": 26,
     "metadata": {},
     "output_type": "execute_result"
    }
   ],
   "source": [
    "s = f.read()\n",
    "s"
   ]
  },
  {
   "cell_type": "markdown",
   "metadata": {},
   "source": [
    "Donc là, avec la commande .read(), je lui ai demandé de me lire tout le fichier d'une traite, et de le stocker dans la variable s, qui est une string.\n",
    "Ce n'est clairement pas le plus malin à faire, puisque si je lui demande de m'afficher s telle qu'elle est, il me donne une très longue chaine de caractères...\n",
    "NB : print permet d'afficher les données telles qu'elles sont renseignées avec les mots clés. C'est assez trompeur, car en réalité les '\\t' et '\\n' ne sont pas affichés, alors qu'ils existent bel et bien.\n",
    "Donc on va essayer une autre méthode."
   ]
  },
  {
   "cell_type": "code",
   "execution_count": 20,
   "metadata": {},
   "outputs": [
    {
     "name": "stdout",
     "output_type": "stream",
     "text": [
      "['entree1\\tentree2\\tx\\ty\\tz\\n', 'a\\tb\\t1\\t2 \\t3\\n', 'c\\td\\t4\\t5\\t6\\n', 'e\\tf\\t7\\t8\\t9']\n"
     ]
    }
   ],
   "source": [
    "f = open('test.txt', 'r')\n",
    "L = f.readlines()\n",
    "print L"
   ]
  },
  {
   "cell_type": "markdown",
   "metadata": {},
   "source": [
    "Donc, là on a ré-ouvert le fichier, puis utilisé la commande readlines, qui créer une liste vide, puis parcourir la chaine de caractères. Tant qu'on ne tombe pas sur un caractère '\\n', les caractères sont ajoutés à l'élément 0 de la liste. Dès qu'on en trouve un, on passe à un élément suivant"
   ]
  },
  {
   "cell_type": "code",
   "execution_count": 21,
   "metadata": {},
   "outputs": [
    {
     "data": {
      "text/plain": [
       "['entree1', 'entree2', 'x', 'y', 'z']"
      ]
     },
     "execution_count": 21,
     "metadata": {},
     "output_type": "execute_result"
    }
   ],
   "source": [
    "L[0].split()"
   ]
  },
  {
   "cell_type": "markdown",
   "metadata": {},
   "source": [
    "La fonction mystring.split() permet de prendre une chaine de caractères, de la parcourir et de faire une liste en séparant (split) à chaque caractère clé rencontré. Par défaut (rien dans les () de split() ), le caractère est '\\t', mais tu peux imaginer n'importe lequel, comme 'e' ou '.'"
   ]
  },
  {
   "cell_type": "code",
   "execution_count": 22,
   "metadata": {},
   "outputs": [
    {
     "name": "stdout",
     "output_type": "stream",
     "text": [
      "['', 'ntr', '', '1\\t', 'ntr', '', '2\\tx\\ty\\tz\\n']\n",
      "['entree1\\tentree2\\tx\\ty\\tz\\n']\n"
     ]
    }
   ],
   "source": [
    "print L[0].split('e')\n",
    "print L[0].split('.')"
   ]
  },
  {
   "cell_type": "markdown",
   "metadata": {},
   "source": [
    "Si on automatise tout ça, de sorte à avoir une grosse liste comme on veut, la ligne de commande est la suivante"
   ]
  },
  {
   "cell_type": "code",
   "execution_count": 23,
   "metadata": {},
   "outputs": [
    {
     "name": "stdout",
     "output_type": "stream",
     "text": [
      "[['entree1', 'entree2', 'x', 'y', 'z'], ['a', 'b', '1', '2', '3'], ['c', 'd', '4', '5', '6'], ['e', 'f', '7', '8', '9']]\n"
     ]
    }
   ],
   "source": [
    "L = [L[i].split() for i in range(len(L))]\n",
    "print L"
   ]
  },
  {
   "cell_type": "markdown",
   "metadata": {},
   "source": [
    "Maintenant, supposons que je veuille créer mes vecteurs x et y, pour pouvoir les plotter (y = f(x) par exemple)."
   ]
  },
  {
   "cell_type": "code",
   "execution_count": 26,
   "metadata": {},
   "outputs": [
    {
     "name": "stdout",
     "output_type": "stream",
     "text": [
      "['1', '4', '7']\n",
      "['2', '5', '8']\n"
     ]
    }
   ],
   "source": [
    "x = [L[line][2] for line in range(1,len(L))]\n",
    "y = [L[line][3] for line in range(1, len(L))]\n",
    "print x\n",
    "print y"
   ]
  },
  {
   "cell_type": "markdown",
   "metadata": {},
   "source": [
    "Là j'ai sélectionné, pour toutes les lignes sauf la première qui contient des informations que je ne veux pas, les éléments qui correspondent à x et y."
   ]
  },
  {
   "cell_type": "markdown",
   "metadata": {},
   "source": [
    "# Pour ton fichier"
   ]
  },
  {
   "cell_type": "markdown",
   "metadata": {},
   "source": [
    "Je ne vais pas tout prendre, seulement les 10 premières lignes, dans un fichier que j'ai appelé extract.txt\n"
   ]
  },
  {
   "cell_type": "code",
   "execution_count": 11,
   "metadata": {},
   "outputs": [
    {
     "data": {
      "text/plain": [
       "[['Chr01',\n",
       "  'IRHS-2017',\n",
       "  'gene',\n",
       "  '3647',\n",
       "  '4113',\n",
       "  '.',\n",
       "  '-',\n",
       "  '.',\n",
       "  'ID=gene:MD01G1000100;Name=MD01G1000100'],\n",
       " ['Chr01',\n",
       "  'IRHS-2017',\n",
       "  'mRNA',\n",
       "  '3647',\n",
       "  '4113',\n",
       "  '.',\n",
       "  '-',\n",
       "  '.',\n",
       "  'ID=mRNA:MD01G1000100;Name=MD01G1000100;Parent=gene:MD01G1000100']]"
      ]
     },
     "execution_count": 11,
     "metadata": {},
     "output_type": "execute_result"
    }
   ],
   "source": [
    "f2 = open('extract.txt', 'r')\n",
    "L2 = f2.readlines()\n",
    "L2 = [L2[k].split() for k in range(len(L2))]\n",
    "L2[0:2] # Affiche les 2 premiers elements"
   ]
  },
  {
   "cell_type": "markdown",
   "metadata": {},
   "source": [
    "Mettons que tu veuilles sélectionner les colonnes 3, 4, 5 et 9, et les stocker dans des listes, alors il te faut"
   ]
  },
  {
   "cell_type": "code",
   "execution_count": 12,
   "metadata": {},
   "outputs": [
    {
     "data": {
      "text/plain": [
       "['ID=gene:MD01G1000100;Name=MD01G1000100',\n",
       " 'ID=mRNA:MD01G1000100;Name=MD01G1000100;Parent=gene:MD01G1000100',\n",
       " 'ID=exon:MD01G1000100.utr0;Parent=mRNA:MD01G1000100',\n",
       " 'ID=exon:MD01G1000100.1;Parent=mRNA:MD01G1000100',\n",
       " 'ID=three_prime_UTR:MD01G1000100.0;Parent=mRNA:MD01G1000100;est_cons=100.0;est_incons=0.0',\n",
       " 'ID=three_prime_UTR:MD01G1000100.2;Parent=mRNA:MD01G1000100;est_cons=54.5;est_incons=45.5',\n",
       " 'ID=CDS:MD01G1000100.1;Parent=mRNA:MD01G1000100;est_cons=100.0;est_incons=0.0',\n",
       " 'ID=five_prime_UTR:MD01G1000100.4;Parent=mRNA:MD01G1000100;est_cons=100.0;est_incons=0.0',\n",
       " 'ID=gene:MD01G1000200;Name=MD01G1000200;Note=bidirectional',\n",
       " 'ID=mRNA:MD01G1000200;Name=MD01G1000200;Parent=gene:MD01G1000200']"
      ]
     },
     "execution_count": 12,
     "metadata": {},
     "output_type": "execute_result"
    }
   ],
   "source": [
    "sequence_type, number1, number2, ID = [], [], [], []\n",
    "for k in range(len(L2)) :\n",
    "    sequence_type.append(L2[k][2])\n",
    "    number1.append(L2[k][3])\n",
    "    number2.append(L2[k][4])\n",
    "    ID.append(L2[k][8])\n",
    "ID"
   ]
  },
  {
   "cell_type": "code",
   "execution_count": null,
   "metadata": {},
   "outputs": [],
   "source": []
  }
 ],
 "metadata": {
  "kernelspec": {
   "display_name": "Python 2",
   "language": "python",
   "name": "python2"
  },
  "language_info": {
   "codemirror_mode": {
    "name": "ipython",
    "version": 2
   },
   "file_extension": ".py",
   "mimetype": "text/x-python",
   "name": "python",
   "nbconvert_exporter": "python",
   "pygments_lexer": "ipython2",
   "version": "2.7.14"
  }
 },
 "nbformat": 4,
 "nbformat_minor": 2
}
